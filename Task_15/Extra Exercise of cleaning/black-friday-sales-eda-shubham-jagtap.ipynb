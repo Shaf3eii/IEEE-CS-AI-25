{
 "cells": [
  {
   "cell_type": "code",
   "id": "83eef118",
   "metadata": {
    "_cell_guid": "b1076dfc-b9ad-4769-8c92-a6c4dae69d19",
    "_uuid": "8f2839f25d086af736a60e9eeb907d3b93b6e0e5",
    "execution": {
     "iopub.execute_input": "2023-09-04T12:42:43.690663Z",
     "iopub.status.busy": "2023-09-04T12:42:43.690270Z",
     "iopub.status.idle": "2023-09-04T12:42:44.570016Z",
     "shell.execute_reply": "2023-09-04T12:42:44.568881Z"
    },
    "papermill": {
     "duration": 0.904212,
     "end_time": "2023-09-04T12:42:44.572678",
     "exception": false,
     "start_time": "2023-09-04T12:42:43.668466",
     "status": "completed"
    },
    "tags": [],
    "ExecuteTime": {
     "end_time": "2025-05-13T15:29:24.780652Z",
     "start_time": "2025-05-13T15:29:24.556120Z"
    }
   },
   "source": [
    "#import Libraries\n",
    "import pandas as pd\n"
   ],
   "outputs": [],
   "execution_count": 1
  },
  {
   "cell_type": "code",
   "id": "312c96bb",
   "metadata": {
    "execution": {
     "iopub.execute_input": "2023-09-04T12:42:44.613253Z",
     "iopub.status.busy": "2023-09-04T12:42:44.612417Z",
     "iopub.status.idle": "2023-09-04T12:42:45.809852Z",
     "shell.execute_reply": "2023-09-04T12:42:45.808667Z"
    },
    "papermill": {
     "duration": 1.220712,
     "end_time": "2023-09-04T12:42:45.812499",
     "exception": false,
     "start_time": "2023-09-04T12:42:44.591787",
     "status": "completed"
    },
    "tags": [],
    "ExecuteTime": {
     "end_time": "2025-05-13T15:29:52.678718Z",
     "start_time": "2025-05-13T15:29:52.333382Z"
    }
   },
   "source": [
    "#read csv\n",
    "ali_friday = pd.read_csv(\"train_blackFriday.csv\")"
   ],
   "outputs": [],
   "execution_count": 2
  },
  {
   "cell_type": "code",
   "id": "2d5d1292",
   "metadata": {
    "execution": {
     "iopub.execute_input": "2023-09-04T12:42:45.864134Z",
     "iopub.status.busy": "2023-09-04T12:42:45.863708Z",
     "iopub.status.idle": "2023-09-04T12:42:45.870972Z",
     "shell.execute_reply": "2023-09-04T12:42:45.869732Z"
    },
    "papermill": {
     "duration": 0.040451,
     "end_time": "2023-09-04T12:42:45.873616",
     "exception": false,
     "start_time": "2023-09-04T12:42:45.833165",
     "status": "completed"
    },
    "tags": [],
    "ExecuteTime": {
     "end_time": "2025-05-13T15:30:24.118455Z",
     "start_time": "2025-05-13T15:30:24.105150Z"
    }
   },
   "source": [
    "#number of rows and coulmns\n",
    "ali_friday.shape"
   ],
   "outputs": [
    {
     "data": {
      "text/plain": [
       "(550068, 12)"
      ]
     },
     "execution_count": 3,
     "metadata": {},
     "output_type": "execute_result"
    }
   ],
   "execution_count": 3
  },
  {
   "cell_type": "code",
   "id": "df4207ae",
   "metadata": {
    "execution": {
     "iopub.execute_input": "2023-09-04T12:42:45.918078Z",
     "iopub.status.busy": "2023-09-04T12:42:45.917532Z",
     "iopub.status.idle": "2023-09-04T12:42:45.931049Z",
     "shell.execute_reply": "2023-09-04T12:42:45.929987Z"
    },
    "papermill": {
     "duration": 0.039371,
     "end_time": "2023-09-04T12:42:45.934384",
     "exception": false,
     "start_time": "2023-09-04T12:42:45.895013",
     "status": "completed"
    },
    "tags": [],
    "ExecuteTime": {
     "end_time": "2025-05-13T15:30:37.250362Z",
     "start_time": "2025-05-13T15:30:37.164373Z"
    }
   },
   "source": [
    "#show data types found\n",
    "ali_friday.info()"
   ],
   "outputs": [
    {
     "name": "stdout",
     "output_type": "stream",
     "text": [
      "<class 'pandas.core.frame.DataFrame'>\n",
      "RangeIndex: 550068 entries, 0 to 550067\n",
      "Data columns (total 12 columns):\n",
      " #   Column                      Non-Null Count   Dtype  \n",
      "---  ------                      --------------   -----  \n",
      " 0   User_ID                     550068 non-null  int64  \n",
      " 1   Product_ID                  550068 non-null  object \n",
      " 2   Gender                      550068 non-null  object \n",
      " 3   Age                         550068 non-null  object \n",
      " 4   Occupation                  550068 non-null  int64  \n",
      " 5   City_Category               550068 non-null  object \n",
      " 6   Stay_In_Current_City_Years  550068 non-null  object \n",
      " 7   Marital_Status              550068 non-null  int64  \n",
      " 8   Product_Category_1          550068 non-null  int64  \n",
      " 9   Product_Category_2          376430 non-null  float64\n",
      " 10  Product_Category_3          166821 non-null  float64\n",
      " 11  Purchase                    550068 non-null  int64  \n",
      "dtypes: float64(2), int64(5), object(5)\n",
      "memory usage: 50.4+ MB\n"
     ]
    }
   ],
   "execution_count": 4
  },
  {
   "cell_type": "code",
   "id": "114528be",
   "metadata": {
    "execution": {
     "iopub.execute_input": "2023-09-04T12:42:45.976930Z",
     "iopub.status.busy": "2023-09-04T12:42:45.976513Z",
     "iopub.status.idle": "2023-09-04T12:42:45.984519Z",
     "shell.execute_reply": "2023-09-04T12:42:45.983316Z"
    },
    "papermill": {
     "duration": 0.032531,
     "end_time": "2023-09-04T12:42:45.986946",
     "exception": false,
     "start_time": "2023-09-04T12:42:45.954415",
     "status": "completed"
    },
    "tags": [],
    "ExecuteTime": {
     "end_time": "2025-05-13T15:30:51.569793Z",
     "start_time": "2025-05-13T15:30:51.566306Z"
    }
   },
   "source": [
    "#show coulmns\n",
    "ali_friday.columns"
   ],
   "outputs": [
    {
     "data": {
      "text/plain": [
       "Index(['User_ID', 'Product_ID', 'Gender', 'Age', 'Occupation', 'City_Category',\n",
       "       'Stay_In_Current_City_Years', 'Marital_Status', 'Product_Category_1',\n",
       "       'Product_Category_2', 'Product_Category_3', 'Purchase'],\n",
       "      dtype='object')"
      ]
     },
     "execution_count": 5,
     "metadata": {},
     "output_type": "execute_result"
    }
   ],
   "execution_count": 5
  },
  {
   "cell_type": "code",
   "id": "cc5e7240",
   "metadata": {
    "execution": {
     "iopub.execute_input": "2023-09-04T12:42:46.030078Z",
     "iopub.status.busy": "2023-09-04T12:42:46.029621Z",
     "iopub.status.idle": "2023-09-04T12:42:46.321912Z",
     "shell.execute_reply": "2023-09-04T12:42:46.320784Z"
    },
    "papermill": {
     "duration": 0.317204,
     "end_time": "2023-09-04T12:42:46.324671",
     "exception": false,
     "start_time": "2023-09-04T12:42:46.007467",
     "status": "completed"
    },
    "tags": [],
    "ExecuteTime": {
     "end_time": "2025-05-13T15:31:01.625269Z",
     "start_time": "2025-05-13T15:31:01.538926Z"
    }
   },
   "source": [
    "#Checking NaN values in the given dataset\n",
    "ali_friday.isna()"
   ],
   "outputs": [
    {
     "data": {
      "text/plain": [
       "        User_ID  Product_ID  Gender    Age  Occupation  City_Category  \\\n",
       "0         False       False   False  False       False          False   \n",
       "1         False       False   False  False       False          False   \n",
       "2         False       False   False  False       False          False   \n",
       "3         False       False   False  False       False          False   \n",
       "4         False       False   False  False       False          False   \n",
       "...         ...         ...     ...    ...         ...            ...   \n",
       "550063    False       False   False  False       False          False   \n",
       "550064    False       False   False  False       False          False   \n",
       "550065    False       False   False  False       False          False   \n",
       "550066    False       False   False  False       False          False   \n",
       "550067    False       False   False  False       False          False   \n",
       "\n",
       "        Stay_In_Current_City_Years  Marital_Status  Product_Category_1  \\\n",
       "0                            False           False               False   \n",
       "1                            False           False               False   \n",
       "2                            False           False               False   \n",
       "3                            False           False               False   \n",
       "4                            False           False               False   \n",
       "...                            ...             ...                 ...   \n",
       "550063                       False           False               False   \n",
       "550064                       False           False               False   \n",
       "550065                       False           False               False   \n",
       "550066                       False           False               False   \n",
       "550067                       False           False               False   \n",
       "\n",
       "        Product_Category_2  Product_Category_3  Purchase  \n",
       "0                     True                True     False  \n",
       "1                    False               False     False  \n",
       "2                     True                True     False  \n",
       "3                    False                True     False  \n",
       "4                     True                True     False  \n",
       "...                    ...                 ...       ...  \n",
       "550063                True                True     False  \n",
       "550064                True                True     False  \n",
       "550065                True                True     False  \n",
       "550066                True                True     False  \n",
       "550067                True                True     False  \n",
       "\n",
       "[550068 rows x 12 columns]"
      ],
      "text/html": [
       "<div>\n",
       "<style scoped>\n",
       "    .dataframe tbody tr th:only-of-type {\n",
       "        vertical-align: middle;\n",
       "    }\n",
       "\n",
       "    .dataframe tbody tr th {\n",
       "        vertical-align: top;\n",
       "    }\n",
       "\n",
       "    .dataframe thead th {\n",
       "        text-align: right;\n",
       "    }\n",
       "</style>\n",
       "<table border=\"1\" class=\"dataframe\">\n",
       "  <thead>\n",
       "    <tr style=\"text-align: right;\">\n",
       "      <th></th>\n",
       "      <th>User_ID</th>\n",
       "      <th>Product_ID</th>\n",
       "      <th>Gender</th>\n",
       "      <th>Age</th>\n",
       "      <th>Occupation</th>\n",
       "      <th>City_Category</th>\n",
       "      <th>Stay_In_Current_City_Years</th>\n",
       "      <th>Marital_Status</th>\n",
       "      <th>Product_Category_1</th>\n",
       "      <th>Product_Category_2</th>\n",
       "      <th>Product_Category_3</th>\n",
       "      <th>Purchase</th>\n",
       "    </tr>\n",
       "  </thead>\n",
       "  <tbody>\n",
       "    <tr>\n",
       "      <th>0</th>\n",
       "      <td>False</td>\n",
       "      <td>False</td>\n",
       "      <td>False</td>\n",
       "      <td>False</td>\n",
       "      <td>False</td>\n",
       "      <td>False</td>\n",
       "      <td>False</td>\n",
       "      <td>False</td>\n",
       "      <td>False</td>\n",
       "      <td>True</td>\n",
       "      <td>True</td>\n",
       "      <td>False</td>\n",
       "    </tr>\n",
       "    <tr>\n",
       "      <th>1</th>\n",
       "      <td>False</td>\n",
       "      <td>False</td>\n",
       "      <td>False</td>\n",
       "      <td>False</td>\n",
       "      <td>False</td>\n",
       "      <td>False</td>\n",
       "      <td>False</td>\n",
       "      <td>False</td>\n",
       "      <td>False</td>\n",
       "      <td>False</td>\n",
       "      <td>False</td>\n",
       "      <td>False</td>\n",
       "    </tr>\n",
       "    <tr>\n",
       "      <th>2</th>\n",
       "      <td>False</td>\n",
       "      <td>False</td>\n",
       "      <td>False</td>\n",
       "      <td>False</td>\n",
       "      <td>False</td>\n",
       "      <td>False</td>\n",
       "      <td>False</td>\n",
       "      <td>False</td>\n",
       "      <td>False</td>\n",
       "      <td>True</td>\n",
       "      <td>True</td>\n",
       "      <td>False</td>\n",
       "    </tr>\n",
       "    <tr>\n",
       "      <th>3</th>\n",
       "      <td>False</td>\n",
       "      <td>False</td>\n",
       "      <td>False</td>\n",
       "      <td>False</td>\n",
       "      <td>False</td>\n",
       "      <td>False</td>\n",
       "      <td>False</td>\n",
       "      <td>False</td>\n",
       "      <td>False</td>\n",
       "      <td>False</td>\n",
       "      <td>True</td>\n",
       "      <td>False</td>\n",
       "    </tr>\n",
       "    <tr>\n",
       "      <th>4</th>\n",
       "      <td>False</td>\n",
       "      <td>False</td>\n",
       "      <td>False</td>\n",
       "      <td>False</td>\n",
       "      <td>False</td>\n",
       "      <td>False</td>\n",
       "      <td>False</td>\n",
       "      <td>False</td>\n",
       "      <td>False</td>\n",
       "      <td>True</td>\n",
       "      <td>True</td>\n",
       "      <td>False</td>\n",
       "    </tr>\n",
       "    <tr>\n",
       "      <th>...</th>\n",
       "      <td>...</td>\n",
       "      <td>...</td>\n",
       "      <td>...</td>\n",
       "      <td>...</td>\n",
       "      <td>...</td>\n",
       "      <td>...</td>\n",
       "      <td>...</td>\n",
       "      <td>...</td>\n",
       "      <td>...</td>\n",
       "      <td>...</td>\n",
       "      <td>...</td>\n",
       "      <td>...</td>\n",
       "    </tr>\n",
       "    <tr>\n",
       "      <th>550063</th>\n",
       "      <td>False</td>\n",
       "      <td>False</td>\n",
       "      <td>False</td>\n",
       "      <td>False</td>\n",
       "      <td>False</td>\n",
       "      <td>False</td>\n",
       "      <td>False</td>\n",
       "      <td>False</td>\n",
       "      <td>False</td>\n",
       "      <td>True</td>\n",
       "      <td>True</td>\n",
       "      <td>False</td>\n",
       "    </tr>\n",
       "    <tr>\n",
       "      <th>550064</th>\n",
       "      <td>False</td>\n",
       "      <td>False</td>\n",
       "      <td>False</td>\n",
       "      <td>False</td>\n",
       "      <td>False</td>\n",
       "      <td>False</td>\n",
       "      <td>False</td>\n",
       "      <td>False</td>\n",
       "      <td>False</td>\n",
       "      <td>True</td>\n",
       "      <td>True</td>\n",
       "      <td>False</td>\n",
       "    </tr>\n",
       "    <tr>\n",
       "      <th>550065</th>\n",
       "      <td>False</td>\n",
       "      <td>False</td>\n",
       "      <td>False</td>\n",
       "      <td>False</td>\n",
       "      <td>False</td>\n",
       "      <td>False</td>\n",
       "      <td>False</td>\n",
       "      <td>False</td>\n",
       "      <td>False</td>\n",
       "      <td>True</td>\n",
       "      <td>True</td>\n",
       "      <td>False</td>\n",
       "    </tr>\n",
       "    <tr>\n",
       "      <th>550066</th>\n",
       "      <td>False</td>\n",
       "      <td>False</td>\n",
       "      <td>False</td>\n",
       "      <td>False</td>\n",
       "      <td>False</td>\n",
       "      <td>False</td>\n",
       "      <td>False</td>\n",
       "      <td>False</td>\n",
       "      <td>False</td>\n",
       "      <td>True</td>\n",
       "      <td>True</td>\n",
       "      <td>False</td>\n",
       "    </tr>\n",
       "    <tr>\n",
       "      <th>550067</th>\n",
       "      <td>False</td>\n",
       "      <td>False</td>\n",
       "      <td>False</td>\n",
       "      <td>False</td>\n",
       "      <td>False</td>\n",
       "      <td>False</td>\n",
       "      <td>False</td>\n",
       "      <td>False</td>\n",
       "      <td>False</td>\n",
       "      <td>True</td>\n",
       "      <td>True</td>\n",
       "      <td>False</td>\n",
       "    </tr>\n",
       "  </tbody>\n",
       "</table>\n",
       "<p>550068 rows × 12 columns</p>\n",
       "</div>"
      ]
     },
     "execution_count": 6,
     "metadata": {},
     "output_type": "execute_result"
    }
   ],
   "execution_count": 6
  },
  {
   "cell_type": "code",
   "id": "19f96834",
   "metadata": {
    "execution": {
     "iopub.execute_input": "2023-09-04T12:42:46.369049Z",
     "iopub.status.busy": "2023-09-04T12:42:46.368641Z",
     "iopub.status.idle": "2023-09-04T12:42:46.793355Z",
     "shell.execute_reply": "2023-09-04T12:42:46.791967Z"
    },
    "papermill": {
     "duration": 0.450066,
     "end_time": "2023-09-04T12:42:46.796009",
     "exception": false,
     "start_time": "2023-09-04T12:42:46.345943",
     "status": "completed"
    },
    "tags": [],
    "ExecuteTime": {
     "end_time": "2025-05-13T15:31:22.905913Z",
     "start_time": "2025-05-13T15:31:22.714568Z"
    }
   },
   "source": [
    "#Checking duplicate values in the dataset\n",
    "ali_friday.duplicated()\n"
   ],
   "outputs": [
    {
     "data": {
      "text/plain": [
       "0         False\n",
       "1         False\n",
       "2         False\n",
       "3         False\n",
       "4         False\n",
       "          ...  \n",
       "550063    False\n",
       "550064    False\n",
       "550065    False\n",
       "550066    False\n",
       "550067    False\n",
       "Length: 550068, dtype: bool"
      ]
     },
     "execution_count": 8,
     "metadata": {},
     "output_type": "execute_result"
    }
   ],
   "execution_count": 8
  },
  {
   "cell_type": "code",
   "id": "ed3af260",
   "metadata": {
    "execution": {
     "iopub.execute_input": "2023-09-04T12:42:46.839038Z",
     "iopub.status.busy": "2023-09-04T12:42:46.838623Z",
     "iopub.status.idle": "2023-09-04T12:42:46.859025Z",
     "shell.execute_reply": "2023-09-04T12:42:46.858108Z"
    },
    "papermill": {
     "duration": 0.044714,
     "end_time": "2023-09-04T12:42:46.861385",
     "exception": false,
     "start_time": "2023-09-04T12:42:46.816671",
     "status": "completed"
    },
    "tags": [],
    "ExecuteTime": {
     "end_time": "2025-05-13T18:00:48.683199Z",
     "start_time": "2025-05-13T18:00:48.678Z"
    }
   },
   "source": [
    "#Renaming the column name to lower case\n",
    "ali_friday.rename(columns={col: col.lower() for col in ali_friday.columns}, inplace=True)"
   ],
   "outputs": [],
   "execution_count": 9
  },
  {
   "cell_type": "code",
   "id": "079add94",
   "metadata": {
    "execution": {
     "iopub.execute_input": "2023-09-04T12:42:46.906750Z",
     "iopub.status.busy": "2023-09-04T12:42:46.906115Z",
     "iopub.status.idle": "2023-09-04T12:42:46.952771Z",
     "shell.execute_reply": "2023-09-04T12:42:46.951569Z"
    },
    "papermill": {
     "duration": 0.072934,
     "end_time": "2023-09-04T12:42:46.955437",
     "exception": false,
     "start_time": "2023-09-04T12:42:46.882503",
     "status": "completed"
    },
    "tags": [],
    "ExecuteTime": {
     "end_time": "2025-05-13T18:02:36.266464Z",
     "start_time": "2025-05-13T18:02:36.244377Z"
    }
   },
   "source": [
    "#Removing Reducant Values (user id)\n",
    "ali_friday.drop_duplicates(subset='user_id', inplace=True)"
   ],
   "outputs": [],
   "execution_count": 11
  },
  {
   "cell_type": "code",
   "id": "28e0eaaf",
   "metadata": {
    "execution": {
     "iopub.execute_input": "2023-09-04T12:42:47.000808Z",
     "iopub.status.busy": "2023-09-04T12:42:47.000407Z",
     "iopub.status.idle": "2023-09-04T12:42:47.064662Z",
     "shell.execute_reply": "2023-09-04T12:42:47.063307Z"
    },
    "papermill": {
     "duration": 0.090484,
     "end_time": "2023-09-04T12:42:47.067279",
     "exception": false,
     "start_time": "2023-09-04T12:42:46.976795",
     "status": "completed"
    },
    "tags": [],
    "ExecuteTime": {
     "end_time": "2025-05-13T18:03:06.476524Z",
     "start_time": "2025-05-13T18:03:06.452356Z"
    }
   },
   "source": [
    "#Checking for unique values in each individual column of the dataset\n",
    "ali_friday.nunique()"
   ],
   "outputs": [
    {
     "data": {
      "text/plain": [
       "user_id                       5891\n",
       "product_id                    1611\n",
       "gender                           2\n",
       "age                              7\n",
       "occupation                      21\n",
       "city_category                    3\n",
       "stay_in_current_city_years       5\n",
       "marital_status                   2\n",
       "product_category_1              18\n",
       "product_category_2              17\n",
       "product_category_3              15\n",
       "purchase                      4133\n",
       "dtype: int64"
      ]
     },
     "execution_count": 12,
     "metadata": {},
     "output_type": "execute_result"
    }
   ],
   "execution_count": 12
  },
  {
   "metadata": {
    "execution": {
     "iopub.execute_input": "2023-09-04T12:42:47.375840Z",
     "iopub.status.busy": "2023-09-04T12:42:47.375450Z",
     "iopub.status.idle": "2023-09-04T12:42:55.653538Z",
     "shell.execute_reply": "2023-09-04T12:42:55.652133Z"
    },
    "papermill": {
     "duration": 8.304288,
     "end_time": "2023-09-04T12:42:55.656316",
     "exception": false,
     "start_time": "2023-09-04T12:42:47.352028",
     "status": "completed"
    },
    "tags": []
   },
   "cell_type": "code",
   "outputs": [],
   "execution_count": 11,
   "source": "#replace each range in age coulmn to its creosspond category ex:0-17 ->child ,18-25 ->teenage, 26-50 -> adult , 51-55+ ->old",
   "id": "b0ae3ebc"
  },
  {
   "cell_type": "code",
   "id": "bf6a87a1",
   "metadata": {
    "execution": {
     "iopub.execute_input": "2023-09-04T12:42:55.706945Z",
     "iopub.status.busy": "2023-09-04T12:42:55.706538Z",
     "iopub.status.idle": "2023-09-04T12:42:55.758290Z",
     "shell.execute_reply": "2023-09-04T12:42:55.757033Z"
    },
    "papermill": {
     "duration": 0.081656,
     "end_time": "2023-09-04T12:42:55.760960",
     "exception": false,
     "start_time": "2023-09-04T12:42:55.679304",
     "status": "completed"
    },
    "tags": [],
    "ExecuteTime": {
     "end_time": "2025-05-13T18:08:17.484989Z",
     "start_time": "2025-05-13T18:08:17.481990Z"
    }
   },
   "source": [
    "age = [0, 17, 25, 50, float('inf')]\n",
    "labels = ['child', 'teenage', 'adult', 'old']\n",
    "\n",
    "ali_friday['Age'] = ali_friday.cut(ali_friday['Age'], age = age, labels = labels, inplace = True)"
   ],
   "outputs": [],
   "execution_count": 16
  },
  {
   "cell_type": "code",
   "id": "cd855e49",
   "metadata": {
    "execution": {
     "iopub.execute_input": "2023-09-04T12:42:55.967808Z",
     "iopub.status.busy": "2023-09-04T12:42:55.967054Z",
     "iopub.status.idle": "2023-09-04T12:42:56.019255Z",
     "shell.execute_reply": "2023-09-04T12:42:56.018096Z"
    },
    "papermill": {
     "duration": 0.080012,
     "end_time": "2023-09-04T12:42:56.021854",
     "exception": false,
     "start_time": "2023-09-04T12:42:55.941842",
     "status": "completed"
    },
    "tags": [],
    "ExecuteTime": {
     "end_time": "2025-05-13T18:09:04.715307Z",
     "start_time": "2025-05-13T18:09:04.710308Z"
    }
   },
   "source": [
    "#Checking for unique values for city_years column\n",
    "ali_friday['stay_in_current_city_years'].nunique()"
   ],
   "outputs": [
    {
     "data": {
      "text/plain": [
       "5"
      ]
     },
     "execution_count": 17,
     "metadata": {},
     "output_type": "execute_result"
    }
   ],
   "execution_count": 17
  },
  {
   "cell_type": "code",
   "id": "d5486374",
   "metadata": {
    "execution": {
     "iopub.execute_input": "2023-09-04T12:42:56.069913Z",
     "iopub.status.busy": "2023-09-04T12:42:56.069532Z",
     "iopub.status.idle": "2023-09-04T12:42:57.135130Z",
     "shell.execute_reply": "2023-09-04T12:42:57.133936Z"
    },
    "papermill": {
     "duration": 1.093211,
     "end_time": "2023-09-04T12:42:57.137907",
     "exception": false,
     "start_time": "2023-09-04T12:42:56.044696",
     "status": "completed"
    },
    "tags": [],
    "ExecuteTime": {
     "end_time": "2025-05-13T18:12:34.113142Z",
     "start_time": "2025-05-13T18:12:34.061841Z"
    }
   },
   "source": [
    "\n",
    "#remove + from rows in city_years column\n",
    "ali_friday = ali_friday['stay_in_current_city_years'].apply(lambda x: x.replace('+', ''))"
   ],
   "outputs": [
    {
     "ename": "KeyError",
     "evalue": "'stay_in_current_city_years'",
     "output_type": "error",
     "traceback": [
      "\u001B[31m---------------------------------------------------------------------------\u001B[39m",
      "\u001B[31mKeyError\u001B[39m                                  Traceback (most recent call last)",
      "\u001B[36mFile \u001B[39m\u001B[32m~\\AppData\\Local\\Programs\\Python\\Python313\\Lib\\site-packages\\pandas\\core\\indexes\\base.py:3805\u001B[39m, in \u001B[36mIndex.get_loc\u001B[39m\u001B[34m(self, key)\u001B[39m\n\u001B[32m   3804\u001B[39m \u001B[38;5;28;01mtry\u001B[39;00m:\n\u001B[32m-> \u001B[39m\u001B[32m3805\u001B[39m     \u001B[38;5;28;01mreturn\u001B[39;00m \u001B[38;5;28;43mself\u001B[39;49m\u001B[43m.\u001B[49m\u001B[43m_engine\u001B[49m\u001B[43m.\u001B[49m\u001B[43mget_loc\u001B[49m\u001B[43m(\u001B[49m\u001B[43mcasted_key\u001B[49m\u001B[43m)\u001B[49m\n\u001B[32m   3806\u001B[39m \u001B[38;5;28;01mexcept\u001B[39;00m \u001B[38;5;167;01mKeyError\u001B[39;00m \u001B[38;5;28;01mas\u001B[39;00m err:\n",
      "\u001B[36mFile \u001B[39m\u001B[32mindex.pyx:167\u001B[39m, in \u001B[36mpandas._libs.index.IndexEngine.get_loc\u001B[39m\u001B[34m()\u001B[39m\n",
      "\u001B[36mFile \u001B[39m\u001B[32mindex.pyx:175\u001B[39m, in \u001B[36mpandas._libs.index.IndexEngine.get_loc\u001B[39m\u001B[34m()\u001B[39m\n",
      "\u001B[36mFile \u001B[39m\u001B[32mpandas\\\\_libs\\\\index_class_helper.pxi:70\u001B[39m, in \u001B[36mpandas._libs.index.Int64Engine._check_type\u001B[39m\u001B[34m()\u001B[39m\n",
      "\u001B[31mKeyError\u001B[39m: 'stay_in_current_city_years'",
      "\nThe above exception was the direct cause of the following exception:\n",
      "\u001B[31mKeyError\u001B[39m                                  Traceback (most recent call last)",
      "\u001B[36mCell\u001B[39m\u001B[36m \u001B[39m\u001B[32mIn[29]\u001B[39m\u001B[32m, line 2\u001B[39m\n\u001B[32m      1\u001B[39m \u001B[38;5;66;03m#remove + from rows in city_years column\u001B[39;00m\n\u001B[32m----> \u001B[39m\u001B[32m2\u001B[39m ali_friday = \u001B[43mali_friday\u001B[49m\u001B[43m[\u001B[49m\u001B[33;43m'\u001B[39;49m\u001B[33;43mstay_in_current_city_years\u001B[39;49m\u001B[33;43m'\u001B[39;49m\u001B[43m]\u001B[49m.apply(\u001B[38;5;28;01mlambda\u001B[39;00m x: x.replace(\u001B[33m'\u001B[39m\u001B[33m+\u001B[39m\u001B[33m'\u001B[39m, \u001B[33m'\u001B[39m\u001B[33m'\u001B[39m))\n",
      "\u001B[36mFile \u001B[39m\u001B[32m~\\AppData\\Local\\Programs\\Python\\Python313\\Lib\\site-packages\\pandas\\core\\series.py:1121\u001B[39m, in \u001B[36mSeries.__getitem__\u001B[39m\u001B[34m(self, key)\u001B[39m\n\u001B[32m   1118\u001B[39m     \u001B[38;5;28;01mreturn\u001B[39;00m \u001B[38;5;28mself\u001B[39m._values[key]\n\u001B[32m   1120\u001B[39m \u001B[38;5;28;01melif\u001B[39;00m key_is_scalar:\n\u001B[32m-> \u001B[39m\u001B[32m1121\u001B[39m     \u001B[38;5;28;01mreturn\u001B[39;00m \u001B[38;5;28;43mself\u001B[39;49m\u001B[43m.\u001B[49m\u001B[43m_get_value\u001B[49m\u001B[43m(\u001B[49m\u001B[43mkey\u001B[49m\u001B[43m)\u001B[49m\n\u001B[32m   1123\u001B[39m \u001B[38;5;66;03m# Convert generator to list before going through hashable part\u001B[39;00m\n\u001B[32m   1124\u001B[39m \u001B[38;5;66;03m# (We will iterate through the generator there to check for slices)\u001B[39;00m\n\u001B[32m   1125\u001B[39m \u001B[38;5;28;01mif\u001B[39;00m is_iterator(key):\n",
      "\u001B[36mFile \u001B[39m\u001B[32m~\\AppData\\Local\\Programs\\Python\\Python313\\Lib\\site-packages\\pandas\\core\\series.py:1237\u001B[39m, in \u001B[36mSeries._get_value\u001B[39m\u001B[34m(self, label, takeable)\u001B[39m\n\u001B[32m   1234\u001B[39m     \u001B[38;5;28;01mreturn\u001B[39;00m \u001B[38;5;28mself\u001B[39m._values[label]\n\u001B[32m   1236\u001B[39m \u001B[38;5;66;03m# Similar to Index.get_value, but we do not fall back to positional\u001B[39;00m\n\u001B[32m-> \u001B[39m\u001B[32m1237\u001B[39m loc = \u001B[38;5;28;43mself\u001B[39;49m\u001B[43m.\u001B[49m\u001B[43mindex\u001B[49m\u001B[43m.\u001B[49m\u001B[43mget_loc\u001B[49m\u001B[43m(\u001B[49m\u001B[43mlabel\u001B[49m\u001B[43m)\u001B[49m\n\u001B[32m   1239\u001B[39m \u001B[38;5;28;01mif\u001B[39;00m is_integer(loc):\n\u001B[32m   1240\u001B[39m     \u001B[38;5;28;01mreturn\u001B[39;00m \u001B[38;5;28mself\u001B[39m._values[loc]\n",
      "\u001B[36mFile \u001B[39m\u001B[32m~\\AppData\\Local\\Programs\\Python\\Python313\\Lib\\site-packages\\pandas\\core\\indexes\\base.py:3812\u001B[39m, in \u001B[36mIndex.get_loc\u001B[39m\u001B[34m(self, key)\u001B[39m\n\u001B[32m   3807\u001B[39m     \u001B[38;5;28;01mif\u001B[39;00m \u001B[38;5;28misinstance\u001B[39m(casted_key, \u001B[38;5;28mslice\u001B[39m) \u001B[38;5;129;01mor\u001B[39;00m (\n\u001B[32m   3808\u001B[39m         \u001B[38;5;28misinstance\u001B[39m(casted_key, abc.Iterable)\n\u001B[32m   3809\u001B[39m         \u001B[38;5;129;01mand\u001B[39;00m \u001B[38;5;28many\u001B[39m(\u001B[38;5;28misinstance\u001B[39m(x, \u001B[38;5;28mslice\u001B[39m) \u001B[38;5;28;01mfor\u001B[39;00m x \u001B[38;5;129;01min\u001B[39;00m casted_key)\n\u001B[32m   3810\u001B[39m     ):\n\u001B[32m   3811\u001B[39m         \u001B[38;5;28;01mraise\u001B[39;00m InvalidIndexError(key)\n\u001B[32m-> \u001B[39m\u001B[32m3812\u001B[39m     \u001B[38;5;28;01mraise\u001B[39;00m \u001B[38;5;167;01mKeyError\u001B[39;00m(key) \u001B[38;5;28;01mfrom\u001B[39;00m\u001B[38;5;250m \u001B[39m\u001B[34;01merr\u001B[39;00m\n\u001B[32m   3813\u001B[39m \u001B[38;5;28;01mexcept\u001B[39;00m \u001B[38;5;167;01mTypeError\u001B[39;00m:\n\u001B[32m   3814\u001B[39m     \u001B[38;5;66;03m# If we have a listlike key, _check_indexing_error will raise\u001B[39;00m\n\u001B[32m   3815\u001B[39m     \u001B[38;5;66;03m#  InvalidIndexError. Otherwise we fall through and re-raise\u001B[39;00m\n\u001B[32m   3816\u001B[39m     \u001B[38;5;66;03m#  the TypeError.\u001B[39;00m\n\u001B[32m   3817\u001B[39m     \u001B[38;5;28mself\u001B[39m._check_indexing_error(key)\n",
      "\u001B[31mKeyError\u001B[39m: 'stay_in_current_city_years'"
     ]
    }
   ],
   "execution_count": 29
  },
  {
   "cell_type": "code",
   "id": "7bd42096",
   "metadata": {
    "execution": {
     "iopub.execute_input": "2023-09-04T12:42:57.462236Z",
     "iopub.status.busy": "2023-09-04T12:42:57.461808Z",
     "iopub.status.idle": "2023-09-04T12:42:57.473914Z",
     "shell.execute_reply": "2023-09-04T12:42:57.472578Z"
    },
    "papermill": {
     "duration": 0.039205,
     "end_time": "2023-09-04T12:42:57.476341",
     "exception": false,
     "start_time": "2023-09-04T12:42:57.437136",
     "status": "completed"
    },
    "tags": [],
    "ExecuteTime": {
     "end_time": "2025-05-13T18:11:24.858527Z",
     "start_time": "2025-05-13T18:11:24.850911Z"
    }
   },
   "source": [
    "#Checking for unique values for category_1 column\n",
    "ali_friday['product_category_1'].nunique()"
   ],
   "outputs": [
    {
     "data": {
      "text/plain": [
       "18"
      ]
     },
     "execution_count": 22,
     "metadata": {},
     "output_type": "execute_result"
    }
   ],
   "execution_count": 22
  },
  {
   "cell_type": "code",
   "id": "cb86a15f",
   "metadata": {
    "execution": {
     "iopub.execute_input": "2023-09-04T12:42:57.525895Z",
     "iopub.status.busy": "2023-09-04T12:42:57.525496Z",
     "iopub.status.idle": "2023-09-04T12:42:57.544548Z",
     "shell.execute_reply": "2023-09-04T12:42:57.543215Z"
    },
    "papermill": {
     "duration": 0.047378,
     "end_time": "2023-09-04T12:42:57.547821",
     "exception": false,
     "start_time": "2023-09-04T12:42:57.500443",
     "status": "completed"
    },
    "tags": [],
    "ExecuteTime": {
     "end_time": "2025-05-13T18:12:51.412031Z",
     "start_time": "2025-05-13T18:12:51.409856Z"
    }
   },
   "source": [
    "#Checking for unique values for category_2 column\n",
    "ali_friday['product_category_2'].nunique()"
   ],
   "outputs": [],
   "execution_count": 30
  },
  {
   "cell_type": "code",
   "id": "a54a4bfc",
   "metadata": {
    "execution": {
     "iopub.execute_input": "2023-09-04T12:42:57.598677Z",
     "iopub.status.busy": "2023-09-04T12:42:57.597411Z",
     "iopub.status.idle": "2023-09-04T12:42:57.617997Z",
     "shell.execute_reply": "2023-09-04T12:42:57.616710Z"
    },
    "papermill": {
     "duration": 0.048599,
     "end_time": "2023-09-04T12:42:57.620621",
     "exception": false,
     "start_time": "2023-09-04T12:42:57.572022",
     "status": "completed"
    },
    "tags": [],
    "ExecuteTime": {
     "end_time": "2025-05-13T18:11:57.354820Z",
     "start_time": "2025-05-13T18:11:57.349207Z"
    }
   },
   "source": [
    "#fill null you found\n",
    "ali_friday.fillna(0)"
   ],
   "outputs": [
    {
     "data": {
      "text/plain": [
       "0         2\n",
       "4         4\n",
       "5         3\n",
       "6         2\n",
       "9         1\n",
       "         ..\n",
       "185450    0\n",
       "187076    2\n",
       "221494    3\n",
       "229480    0\n",
       "243533    4\n",
       "Name: stay_in_current_city_years, Length: 5891, dtype: object"
      ]
     },
     "execution_count": 26,
     "metadata": {},
     "output_type": "execute_result"
    }
   ],
   "execution_count": 26
  },
  {
   "cell_type": "code",
   "id": "e11129d7",
   "metadata": {
    "execution": {
     "iopub.execute_input": "2023-09-04T12:42:57.670754Z",
     "iopub.status.busy": "2023-09-04T12:42:57.670352Z",
     "iopub.status.idle": "2023-09-04T12:42:57.683748Z",
     "shell.execute_reply": "2023-09-04T12:42:57.682574Z"
    },
    "papermill": {
     "duration": 0.041758,
     "end_time": "2023-09-04T12:42:57.686257",
     "exception": false,
     "start_time": "2023-09-04T12:42:57.644499",
     "status": "completed"
    },
    "tags": [],
    "ExecuteTime": {
     "end_time": "2025-05-13T18:14:35.804634Z",
     "start_time": "2025-05-13T18:14:35.752913Z"
    }
   },
   "source": [
    "#Checking for unique values for category_3 column\n",
    "ali_friday['product_category_3'].nunique()"
   ],
   "outputs": [
    {
     "ename": "KeyError",
     "evalue": "'product_category_3'",
     "output_type": "error",
     "traceback": [
      "\u001B[31m---------------------------------------------------------------------------\u001B[39m",
      "\u001B[31mKeyError\u001B[39m                                  Traceback (most recent call last)",
      "\u001B[36mFile \u001B[39m\u001B[32m~\\AppData\\Local\\Programs\\Python\\Python313\\Lib\\site-packages\\pandas\\core\\indexes\\base.py:3805\u001B[39m, in \u001B[36mIndex.get_loc\u001B[39m\u001B[34m(self, key)\u001B[39m\n\u001B[32m   3804\u001B[39m \u001B[38;5;28;01mtry\u001B[39;00m:\n\u001B[32m-> \u001B[39m\u001B[32m3805\u001B[39m     \u001B[38;5;28;01mreturn\u001B[39;00m \u001B[38;5;28;43mself\u001B[39;49m\u001B[43m.\u001B[49m\u001B[43m_engine\u001B[49m\u001B[43m.\u001B[49m\u001B[43mget_loc\u001B[49m\u001B[43m(\u001B[49m\u001B[43mcasted_key\u001B[49m\u001B[43m)\u001B[49m\n\u001B[32m   3806\u001B[39m \u001B[38;5;28;01mexcept\u001B[39;00m \u001B[38;5;167;01mKeyError\u001B[39;00m \u001B[38;5;28;01mas\u001B[39;00m err:\n",
      "\u001B[36mFile \u001B[39m\u001B[32mindex.pyx:167\u001B[39m, in \u001B[36mpandas._libs.index.IndexEngine.get_loc\u001B[39m\u001B[34m()\u001B[39m\n",
      "\u001B[36mFile \u001B[39m\u001B[32mindex.pyx:175\u001B[39m, in \u001B[36mpandas._libs.index.IndexEngine.get_loc\u001B[39m\u001B[34m()\u001B[39m\n",
      "\u001B[36mFile \u001B[39m\u001B[32mpandas\\\\_libs\\\\index_class_helper.pxi:70\u001B[39m, in \u001B[36mpandas._libs.index.Int64Engine._check_type\u001B[39m\u001B[34m()\u001B[39m\n",
      "\u001B[31mKeyError\u001B[39m: 'product_category_3'",
      "\nThe above exception was the direct cause of the following exception:\n",
      "\u001B[31mKeyError\u001B[39m                                  Traceback (most recent call last)",
      "\u001B[36mCell\u001B[39m\u001B[36m \u001B[39m\u001B[32mIn[33]\u001B[39m\u001B[32m, line 2\u001B[39m\n\u001B[32m      1\u001B[39m \u001B[38;5;66;03m#Checking for unique values for category_3 column\u001B[39;00m\n\u001B[32m----> \u001B[39m\u001B[32m2\u001B[39m \u001B[43mali_friday\u001B[49m\u001B[43m[\u001B[49m\u001B[33;43m'\u001B[39;49m\u001B[33;43mproduct_category_3\u001B[39;49m\u001B[33;43m'\u001B[39;49m\u001B[43m]\u001B[49m.nunique()\n",
      "\u001B[36mFile \u001B[39m\u001B[32m~\\AppData\\Local\\Programs\\Python\\Python313\\Lib\\site-packages\\pandas\\core\\series.py:1121\u001B[39m, in \u001B[36mSeries.__getitem__\u001B[39m\u001B[34m(self, key)\u001B[39m\n\u001B[32m   1118\u001B[39m     \u001B[38;5;28;01mreturn\u001B[39;00m \u001B[38;5;28mself\u001B[39m._values[key]\n\u001B[32m   1120\u001B[39m \u001B[38;5;28;01melif\u001B[39;00m key_is_scalar:\n\u001B[32m-> \u001B[39m\u001B[32m1121\u001B[39m     \u001B[38;5;28;01mreturn\u001B[39;00m \u001B[38;5;28;43mself\u001B[39;49m\u001B[43m.\u001B[49m\u001B[43m_get_value\u001B[49m\u001B[43m(\u001B[49m\u001B[43mkey\u001B[49m\u001B[43m)\u001B[49m\n\u001B[32m   1123\u001B[39m \u001B[38;5;66;03m# Convert generator to list before going through hashable part\u001B[39;00m\n\u001B[32m   1124\u001B[39m \u001B[38;5;66;03m# (We will iterate through the generator there to check for slices)\u001B[39;00m\n\u001B[32m   1125\u001B[39m \u001B[38;5;28;01mif\u001B[39;00m is_iterator(key):\n",
      "\u001B[36mFile \u001B[39m\u001B[32m~\\AppData\\Local\\Programs\\Python\\Python313\\Lib\\site-packages\\pandas\\core\\series.py:1237\u001B[39m, in \u001B[36mSeries._get_value\u001B[39m\u001B[34m(self, label, takeable)\u001B[39m\n\u001B[32m   1234\u001B[39m     \u001B[38;5;28;01mreturn\u001B[39;00m \u001B[38;5;28mself\u001B[39m._values[label]\n\u001B[32m   1236\u001B[39m \u001B[38;5;66;03m# Similar to Index.get_value, but we do not fall back to positional\u001B[39;00m\n\u001B[32m-> \u001B[39m\u001B[32m1237\u001B[39m loc = \u001B[38;5;28;43mself\u001B[39;49m\u001B[43m.\u001B[49m\u001B[43mindex\u001B[49m\u001B[43m.\u001B[49m\u001B[43mget_loc\u001B[49m\u001B[43m(\u001B[49m\u001B[43mlabel\u001B[49m\u001B[43m)\u001B[49m\n\u001B[32m   1239\u001B[39m \u001B[38;5;28;01mif\u001B[39;00m is_integer(loc):\n\u001B[32m   1240\u001B[39m     \u001B[38;5;28;01mreturn\u001B[39;00m \u001B[38;5;28mself\u001B[39m._values[loc]\n",
      "\u001B[36mFile \u001B[39m\u001B[32m~\\AppData\\Local\\Programs\\Python\\Python313\\Lib\\site-packages\\pandas\\core\\indexes\\base.py:3812\u001B[39m, in \u001B[36mIndex.get_loc\u001B[39m\u001B[34m(self, key)\u001B[39m\n\u001B[32m   3807\u001B[39m     \u001B[38;5;28;01mif\u001B[39;00m \u001B[38;5;28misinstance\u001B[39m(casted_key, \u001B[38;5;28mslice\u001B[39m) \u001B[38;5;129;01mor\u001B[39;00m (\n\u001B[32m   3808\u001B[39m         \u001B[38;5;28misinstance\u001B[39m(casted_key, abc.Iterable)\n\u001B[32m   3809\u001B[39m         \u001B[38;5;129;01mand\u001B[39;00m \u001B[38;5;28many\u001B[39m(\u001B[38;5;28misinstance\u001B[39m(x, \u001B[38;5;28mslice\u001B[39m) \u001B[38;5;28;01mfor\u001B[39;00m x \u001B[38;5;129;01min\u001B[39;00m casted_key)\n\u001B[32m   3810\u001B[39m     ):\n\u001B[32m   3811\u001B[39m         \u001B[38;5;28;01mraise\u001B[39;00m InvalidIndexError(key)\n\u001B[32m-> \u001B[39m\u001B[32m3812\u001B[39m     \u001B[38;5;28;01mraise\u001B[39;00m \u001B[38;5;167;01mKeyError\u001B[39;00m(key) \u001B[38;5;28;01mfrom\u001B[39;00m\u001B[38;5;250m \u001B[39m\u001B[34;01merr\u001B[39;00m\n\u001B[32m   3813\u001B[39m \u001B[38;5;28;01mexcept\u001B[39;00m \u001B[38;5;167;01mTypeError\u001B[39;00m:\n\u001B[32m   3814\u001B[39m     \u001B[38;5;66;03m# If we have a listlike key, _check_indexing_error will raise\u001B[39;00m\n\u001B[32m   3815\u001B[39m     \u001B[38;5;66;03m#  InvalidIndexError. Otherwise we fall through and re-raise\u001B[39;00m\n\u001B[32m   3816\u001B[39m     \u001B[38;5;66;03m#  the TypeError.\u001B[39;00m\n\u001B[32m   3817\u001B[39m     \u001B[38;5;28mself\u001B[39m._check_indexing_error(key)\n",
      "\u001B[31mKeyError\u001B[39m: 'product_category_3'"
     ]
    }
   ],
   "execution_count": 33
  },
  {
   "cell_type": "code",
   "id": "ebc6ebc4",
   "metadata": {
    "execution": {
     "iopub.execute_input": "2023-09-04T12:42:57.738107Z",
     "iopub.status.busy": "2023-09-04T12:42:57.737674Z",
     "iopub.status.idle": "2023-09-04T12:42:57.756017Z",
     "shell.execute_reply": "2023-09-04T12:42:57.754783Z"
    },
    "papermill": {
     "duration": 0.047064,
     "end_time": "2023-09-04T12:42:57.758579",
     "exception": false,
     "start_time": "2023-09-04T12:42:57.711515",
     "status": "completed"
    },
    "tags": [],
    "ExecuteTime": {
     "end_time": "2025-05-13T18:15:17.730187Z",
     "start_time": "2025-05-13T18:15:17.726843Z"
    }
   },
   "source": [
    "#fill null you found\n",
    "ali_friday['product_category_3'].fillna(0)"
   ],
   "outputs": [],
   "execution_count": 38
  },
  {
   "cell_type": "code",
   "id": "0047acb7",
   "metadata": {
    "execution": {
     "iopub.execute_input": "2023-09-04T12:42:57.877782Z",
     "iopub.status.busy": "2023-09-04T12:42:57.877352Z",
     "iopub.status.idle": "2023-09-04T12:42:58.171805Z",
     "shell.execute_reply": "2023-09-04T12:42:58.170535Z"
    },
    "papermill": {
     "duration": 0.322937,
     "end_time": "2023-09-04T12:42:58.174246",
     "exception": false,
     "start_time": "2023-09-04T12:42:57.851309",
     "status": "completed"
    },
    "tags": [],
    "ExecuteTime": {
     "end_time": "2025-05-13T18:15:11.858690Z",
     "start_time": "2025-05-13T18:15:11.854356Z"
    }
   },
   "source": [
    "#check for null values\n",
    "ali_friday.isna()"
   ],
   "outputs": [
    {
     "data": {
      "text/plain": [
       "0         False\n",
       "4         False\n",
       "5         False\n",
       "6         False\n",
       "9         False\n",
       "          ...  \n",
       "185450    False\n",
       "187076    False\n",
       "221494    False\n",
       "229480    False\n",
       "243533    False\n",
       "Name: stay_in_current_city_years, Length: 5891, dtype: bool"
      ]
     },
     "execution_count": 35,
     "metadata": {},
     "output_type": "execute_result"
    }
   ],
   "execution_count": 35
  },
  {
   "cell_type": "code",
   "id": "9b097b9f",
   "metadata": {
    "papermill": {
     "duration": 0.031961,
     "end_time": "2023-09-04T12:43:24.977355",
     "exception": false,
     "start_time": "2023-09-04T12:43:24.945394",
     "status": "completed"
    },
    "tags": [],
    "ExecuteTime": {
     "end_time": "2025-05-13T18:15:10.383607Z",
     "start_time": "2025-05-13T18:15:10.374851Z"
    }
   },
   "source": [
    "#check for duplicates values\n",
    "ali_friday.duplicated()"
   ],
   "outputs": [
    {
     "data": {
      "text/plain": [
       "0         False\n",
       "4         False\n",
       "5         False\n",
       "6          True\n",
       "9         False\n",
       "          ...  \n",
       "185450     True\n",
       "187076     True\n",
       "221494     True\n",
       "229480     True\n",
       "243533     True\n",
       "Name: stay_in_current_city_years, Length: 5891, dtype: bool"
      ]
     },
     "execution_count": 34,
     "metadata": {},
     "output_type": "execute_result"
    }
   ],
   "execution_count": 34
  }
 ],
 "metadata": {
  "kernelspec": {
   "display_name": "Python 3 (ipykernel)",
   "language": "python",
   "name": "python3"
  },
  "language_info": {
   "codemirror_mode": {
    "name": "ipython",
    "version": 3
   },
   "file_extension": ".py",
   "mimetype": "text/x-python",
   "name": "python",
   "nbconvert_exporter": "python",
   "pygments_lexer": "ipython3",
   "version": "3.9.13"
  },
  "papermill": {
   "default_parameters": {},
   "duration": 47.110011,
   "end_time": "2023-09-04T12:43:25.832217",
   "environment_variables": {},
   "exception": null,
   "input_path": "__notebook__.ipynb",
   "output_path": "__notebook__.ipynb",
   "parameters": {},
   "start_time": "2023-09-04T12:42:38.722206",
   "version": "2.4.0"
  }
 },
 "nbformat": 4,
 "nbformat_minor": 5
}

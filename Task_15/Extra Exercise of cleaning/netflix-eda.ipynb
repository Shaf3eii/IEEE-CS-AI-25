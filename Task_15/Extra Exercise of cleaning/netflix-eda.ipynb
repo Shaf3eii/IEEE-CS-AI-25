{
 "cells": [
  {
   "cell_type": "markdown",
   "id": "3f67abf2",
   "metadata": {
    "papermill": {
     "duration": 0.011357,
     "end_time": "2024-05-12T11:47:52.592385",
     "exception": false,
     "start_time": "2024-05-12T11:47:52.581028",
     "status": "completed"
    },
    "tags": []
   },
   "source": [
    "# 1. Importing Libraries"
   ]
  },
  {
   "cell_type": "code",
   "id": "a40aa72a",
   "metadata": {
    "execution": {
     "iopub.execute_input": "2024-05-12T11:47:52.618905Z",
     "iopub.status.busy": "2024-05-12T11:47:52.618172Z",
     "iopub.status.idle": "2024-05-12T11:47:55.151354Z",
     "shell.execute_reply": "2024-05-12T11:47:55.149805Z"
    },
    "papermill": {
     "duration": 2.550327,
     "end_time": "2024-05-12T11:47:55.154315",
     "exception": false,
     "start_time": "2024-05-12T11:47:52.603988",
     "status": "completed"
    },
    "tags": [],
    "ExecuteTime": {
     "end_time": "2025-05-14T14:51:21.423295Z",
     "start_time": "2025-05-14T14:51:20.870309Z"
    }
   },
   "source": "import pandas as pd",
   "outputs": [],
   "execution_count": 1
  },
  {
   "cell_type": "markdown",
   "id": "c9e27157",
   "metadata": {
    "papermill": {
     "duration": 0.010236,
     "end_time": "2024-05-12T11:47:55.175637",
     "exception": false,
     "start_time": "2024-05-12T11:47:55.165401",
     "status": "completed"
    },
    "tags": []
   },
   "source": [
    "# 2. Data Loading"
   ]
  },
  {
   "cell_type": "code",
   "id": "c481b89b",
   "metadata": {
    "execution": {
     "iopub.execute_input": "2024-05-12T11:47:55.198292Z",
     "iopub.status.busy": "2024-05-12T11:47:55.197778Z",
     "iopub.status.idle": "2024-05-12T11:47:55.293095Z",
     "shell.execute_reply": "2024-05-12T11:47:55.291847Z"
    },
    "papermill": {
     "duration": 0.109876,
     "end_time": "2024-05-12T11:47:55.295818",
     "exception": false,
     "start_time": "2024-05-12T11:47:55.185942",
     "status": "completed"
    },
    "tags": [],
    "ExecuteTime": {
     "end_time": "2025-05-14T14:51:55.003114Z",
     "start_time": "2025-05-14T14:51:54.950950Z"
    }
   },
   "source": [
    "netflix = pd.read_csv(\"netflix1.csv\")\n",
    "netflix.head()"
   ],
   "outputs": [
    {
     "data": {
      "text/plain": [
       "  show_id     type                             title         director  \\\n",
       "0      s1    Movie              Dick Johnson Is Dead  Kirsten Johnson   \n",
       "1      s3  TV Show                         Ganglands  Julien Leclercq   \n",
       "2      s6  TV Show                     Midnight Mass    Mike Flanagan   \n",
       "3     s14    Movie  Confessions of an Invisible Girl    Bruno Garotti   \n",
       "4      s8    Movie                           Sankofa     Haile Gerima   \n",
       "\n",
       "         country date_added  release_year rating  duration  \\\n",
       "0  United States  9/25/2021          2020  PG-13    90 min   \n",
       "1         France  9/24/2021          2021  TV-MA  1 Season   \n",
       "2  United States  9/24/2021          2021  TV-MA  1 Season   \n",
       "3         Brazil  9/22/2021          2021  TV-PG    91 min   \n",
       "4  United States  9/24/2021          1993  TV-MA   125 min   \n",
       "\n",
       "                                           listed_in  \n",
       "0                                      Documentaries  \n",
       "1  Crime TV Shows, International TV Shows, TV Act...  \n",
       "2                 TV Dramas, TV Horror, TV Mysteries  \n",
       "3                 Children & Family Movies, Comedies  \n",
       "4   Dramas, Independent Movies, International Movies  "
      ],
      "text/html": [
       "<div>\n",
       "<style scoped>\n",
       "    .dataframe tbody tr th:only-of-type {\n",
       "        vertical-align: middle;\n",
       "    }\n",
       "\n",
       "    .dataframe tbody tr th {\n",
       "        vertical-align: top;\n",
       "    }\n",
       "\n",
       "    .dataframe thead th {\n",
       "        text-align: right;\n",
       "    }\n",
       "</style>\n",
       "<table border=\"1\" class=\"dataframe\">\n",
       "  <thead>\n",
       "    <tr style=\"text-align: right;\">\n",
       "      <th></th>\n",
       "      <th>show_id</th>\n",
       "      <th>type</th>\n",
       "      <th>title</th>\n",
       "      <th>director</th>\n",
       "      <th>country</th>\n",
       "      <th>date_added</th>\n",
       "      <th>release_year</th>\n",
       "      <th>rating</th>\n",
       "      <th>duration</th>\n",
       "      <th>listed_in</th>\n",
       "    </tr>\n",
       "  </thead>\n",
       "  <tbody>\n",
       "    <tr>\n",
       "      <th>0</th>\n",
       "      <td>s1</td>\n",
       "      <td>Movie</td>\n",
       "      <td>Dick Johnson Is Dead</td>\n",
       "      <td>Kirsten Johnson</td>\n",
       "      <td>United States</td>\n",
       "      <td>9/25/2021</td>\n",
       "      <td>2020</td>\n",
       "      <td>PG-13</td>\n",
       "      <td>90 min</td>\n",
       "      <td>Documentaries</td>\n",
       "    </tr>\n",
       "    <tr>\n",
       "      <th>1</th>\n",
       "      <td>s3</td>\n",
       "      <td>TV Show</td>\n",
       "      <td>Ganglands</td>\n",
       "      <td>Julien Leclercq</td>\n",
       "      <td>France</td>\n",
       "      <td>9/24/2021</td>\n",
       "      <td>2021</td>\n",
       "      <td>TV-MA</td>\n",
       "      <td>1 Season</td>\n",
       "      <td>Crime TV Shows, International TV Shows, TV Act...</td>\n",
       "    </tr>\n",
       "    <tr>\n",
       "      <th>2</th>\n",
       "      <td>s6</td>\n",
       "      <td>TV Show</td>\n",
       "      <td>Midnight Mass</td>\n",
       "      <td>Mike Flanagan</td>\n",
       "      <td>United States</td>\n",
       "      <td>9/24/2021</td>\n",
       "      <td>2021</td>\n",
       "      <td>TV-MA</td>\n",
       "      <td>1 Season</td>\n",
       "      <td>TV Dramas, TV Horror, TV Mysteries</td>\n",
       "    </tr>\n",
       "    <tr>\n",
       "      <th>3</th>\n",
       "      <td>s14</td>\n",
       "      <td>Movie</td>\n",
       "      <td>Confessions of an Invisible Girl</td>\n",
       "      <td>Bruno Garotti</td>\n",
       "      <td>Brazil</td>\n",
       "      <td>9/22/2021</td>\n",
       "      <td>2021</td>\n",
       "      <td>TV-PG</td>\n",
       "      <td>91 min</td>\n",
       "      <td>Children &amp; Family Movies, Comedies</td>\n",
       "    </tr>\n",
       "    <tr>\n",
       "      <th>4</th>\n",
       "      <td>s8</td>\n",
       "      <td>Movie</td>\n",
       "      <td>Sankofa</td>\n",
       "      <td>Haile Gerima</td>\n",
       "      <td>United States</td>\n",
       "      <td>9/24/2021</td>\n",
       "      <td>1993</td>\n",
       "      <td>TV-MA</td>\n",
       "      <td>125 min</td>\n",
       "      <td>Dramas, Independent Movies, International Movies</td>\n",
       "    </tr>\n",
       "  </tbody>\n",
       "</table>\n",
       "</div>"
      ]
     },
     "execution_count": 3,
     "metadata": {},
     "output_type": "execute_result"
    }
   ],
   "execution_count": 3
  },
  {
   "cell_type": "markdown",
   "id": "033d9528",
   "metadata": {
    "papermill": {
     "duration": 0.011027,
     "end_time": "2024-05-12T11:47:55.317802",
     "exception": false,
     "start_time": "2024-05-12T11:47:55.306775",
     "status": "completed"
    },
    "tags": []
   },
   "source": [
    "# 3. Exploring Data"
   ]
  },
  {
   "cell_type": "code",
   "id": "a50808a2",
   "metadata": {
    "execution": {
     "iopub.execute_input": "2024-05-12T11:47:55.342183Z",
     "iopub.status.busy": "2024-05-12T11:47:55.341749Z",
     "iopub.status.idle": "2024-05-12T11:47:55.349805Z",
     "shell.execute_reply": "2024-05-12T11:47:55.348508Z"
    },
    "papermill": {
     "duration": 0.02367,
     "end_time": "2024-05-12T11:47:55.352369",
     "exception": false,
     "start_time": "2024-05-12T11:47:55.328699",
     "status": "completed"
    },
    "tags": [],
    "ExecuteTime": {
     "end_time": "2025-05-14T14:52:13.756555Z",
     "start_time": "2025-05-14T14:52:13.748490Z"
    }
   },
   "source": "netflix.head()",
   "outputs": [
    {
     "data": {
      "text/plain": [
       "  show_id     type                             title         director  \\\n",
       "0      s1    Movie              Dick Johnson Is Dead  Kirsten Johnson   \n",
       "1      s3  TV Show                         Ganglands  Julien Leclercq   \n",
       "2      s6  TV Show                     Midnight Mass    Mike Flanagan   \n",
       "3     s14    Movie  Confessions of an Invisible Girl    Bruno Garotti   \n",
       "4      s8    Movie                           Sankofa     Haile Gerima   \n",
       "\n",
       "         country date_added  release_year rating  duration  \\\n",
       "0  United States  9/25/2021          2020  PG-13    90 min   \n",
       "1         France  9/24/2021          2021  TV-MA  1 Season   \n",
       "2  United States  9/24/2021          2021  TV-MA  1 Season   \n",
       "3         Brazil  9/22/2021          2021  TV-PG    91 min   \n",
       "4  United States  9/24/2021          1993  TV-MA   125 min   \n",
       "\n",
       "                                           listed_in  \n",
       "0                                      Documentaries  \n",
       "1  Crime TV Shows, International TV Shows, TV Act...  \n",
       "2                 TV Dramas, TV Horror, TV Mysteries  \n",
       "3                 Children & Family Movies, Comedies  \n",
       "4   Dramas, Independent Movies, International Movies  "
      ],
      "text/html": [
       "<div>\n",
       "<style scoped>\n",
       "    .dataframe tbody tr th:only-of-type {\n",
       "        vertical-align: middle;\n",
       "    }\n",
       "\n",
       "    .dataframe tbody tr th {\n",
       "        vertical-align: top;\n",
       "    }\n",
       "\n",
       "    .dataframe thead th {\n",
       "        text-align: right;\n",
       "    }\n",
       "</style>\n",
       "<table border=\"1\" class=\"dataframe\">\n",
       "  <thead>\n",
       "    <tr style=\"text-align: right;\">\n",
       "      <th></th>\n",
       "      <th>show_id</th>\n",
       "      <th>type</th>\n",
       "      <th>title</th>\n",
       "      <th>director</th>\n",
       "      <th>country</th>\n",
       "      <th>date_added</th>\n",
       "      <th>release_year</th>\n",
       "      <th>rating</th>\n",
       "      <th>duration</th>\n",
       "      <th>listed_in</th>\n",
       "    </tr>\n",
       "  </thead>\n",
       "  <tbody>\n",
       "    <tr>\n",
       "      <th>0</th>\n",
       "      <td>s1</td>\n",
       "      <td>Movie</td>\n",
       "      <td>Dick Johnson Is Dead</td>\n",
       "      <td>Kirsten Johnson</td>\n",
       "      <td>United States</td>\n",
       "      <td>9/25/2021</td>\n",
       "      <td>2020</td>\n",
       "      <td>PG-13</td>\n",
       "      <td>90 min</td>\n",
       "      <td>Documentaries</td>\n",
       "    </tr>\n",
       "    <tr>\n",
       "      <th>1</th>\n",
       "      <td>s3</td>\n",
       "      <td>TV Show</td>\n",
       "      <td>Ganglands</td>\n",
       "      <td>Julien Leclercq</td>\n",
       "      <td>France</td>\n",
       "      <td>9/24/2021</td>\n",
       "      <td>2021</td>\n",
       "      <td>TV-MA</td>\n",
       "      <td>1 Season</td>\n",
       "      <td>Crime TV Shows, International TV Shows, TV Act...</td>\n",
       "    </tr>\n",
       "    <tr>\n",
       "      <th>2</th>\n",
       "      <td>s6</td>\n",
       "      <td>TV Show</td>\n",
       "      <td>Midnight Mass</td>\n",
       "      <td>Mike Flanagan</td>\n",
       "      <td>United States</td>\n",
       "      <td>9/24/2021</td>\n",
       "      <td>2021</td>\n",
       "      <td>TV-MA</td>\n",
       "      <td>1 Season</td>\n",
       "      <td>TV Dramas, TV Horror, TV Mysteries</td>\n",
       "    </tr>\n",
       "    <tr>\n",
       "      <th>3</th>\n",
       "      <td>s14</td>\n",
       "      <td>Movie</td>\n",
       "      <td>Confessions of an Invisible Girl</td>\n",
       "      <td>Bruno Garotti</td>\n",
       "      <td>Brazil</td>\n",
       "      <td>9/22/2021</td>\n",
       "      <td>2021</td>\n",
       "      <td>TV-PG</td>\n",
       "      <td>91 min</td>\n",
       "      <td>Children &amp; Family Movies, Comedies</td>\n",
       "    </tr>\n",
       "    <tr>\n",
       "      <th>4</th>\n",
       "      <td>s8</td>\n",
       "      <td>Movie</td>\n",
       "      <td>Sankofa</td>\n",
       "      <td>Haile Gerima</td>\n",
       "      <td>United States</td>\n",
       "      <td>9/24/2021</td>\n",
       "      <td>1993</td>\n",
       "      <td>TV-MA</td>\n",
       "      <td>125 min</td>\n",
       "      <td>Dramas, Independent Movies, International Movies</td>\n",
       "    </tr>\n",
       "  </tbody>\n",
       "</table>\n",
       "</div>"
      ]
     },
     "execution_count": 4,
     "metadata": {},
     "output_type": "execute_result"
    }
   ],
   "execution_count": 4
  },
  {
   "cell_type": "code",
   "id": "910a4e60",
   "metadata": {
    "execution": {
     "iopub.execute_input": "2024-05-12T11:47:55.379073Z",
     "iopub.status.busy": "2024-05-12T11:47:55.378335Z",
     "iopub.status.idle": "2024-05-12T11:47:55.399351Z",
     "shell.execute_reply": "2024-05-12T11:47:55.398072Z"
    },
    "papermill": {
     "duration": 0.038174,
     "end_time": "2024-05-12T11:47:55.402115",
     "exception": false,
     "start_time": "2024-05-12T11:47:55.363941",
     "status": "completed"
    },
    "tags": [],
    "ExecuteTime": {
     "end_time": "2025-05-14T14:52:19.242124Z",
     "start_time": "2025-05-14T14:52:19.228315Z"
    }
   },
   "source": "netflix.describe()",
   "outputs": [
    {
     "data": {
      "text/plain": [
       "       release_year\n",
       "count   8790.000000\n",
       "mean    2014.183163\n",
       "std        8.825466\n",
       "min     1925.000000\n",
       "25%     2013.000000\n",
       "50%     2017.000000\n",
       "75%     2019.000000\n",
       "max     2021.000000"
      ],
      "text/html": [
       "<div>\n",
       "<style scoped>\n",
       "    .dataframe tbody tr th:only-of-type {\n",
       "        vertical-align: middle;\n",
       "    }\n",
       "\n",
       "    .dataframe tbody tr th {\n",
       "        vertical-align: top;\n",
       "    }\n",
       "\n",
       "    .dataframe thead th {\n",
       "        text-align: right;\n",
       "    }\n",
       "</style>\n",
       "<table border=\"1\" class=\"dataframe\">\n",
       "  <thead>\n",
       "    <tr style=\"text-align: right;\">\n",
       "      <th></th>\n",
       "      <th>release_year</th>\n",
       "    </tr>\n",
       "  </thead>\n",
       "  <tbody>\n",
       "    <tr>\n",
       "      <th>count</th>\n",
       "      <td>8790.000000</td>\n",
       "    </tr>\n",
       "    <tr>\n",
       "      <th>mean</th>\n",
       "      <td>2014.183163</td>\n",
       "    </tr>\n",
       "    <tr>\n",
       "      <th>std</th>\n",
       "      <td>8.825466</td>\n",
       "    </tr>\n",
       "    <tr>\n",
       "      <th>min</th>\n",
       "      <td>1925.000000</td>\n",
       "    </tr>\n",
       "    <tr>\n",
       "      <th>25%</th>\n",
       "      <td>2013.000000</td>\n",
       "    </tr>\n",
       "    <tr>\n",
       "      <th>50%</th>\n",
       "      <td>2017.000000</td>\n",
       "    </tr>\n",
       "    <tr>\n",
       "      <th>75%</th>\n",
       "      <td>2019.000000</td>\n",
       "    </tr>\n",
       "    <tr>\n",
       "      <th>max</th>\n",
       "      <td>2021.000000</td>\n",
       "    </tr>\n",
       "  </tbody>\n",
       "</table>\n",
       "</div>"
      ]
     },
     "execution_count": 5,
     "metadata": {},
     "output_type": "execute_result"
    }
   ],
   "execution_count": 5
  },
  {
   "cell_type": "code",
   "id": "2a254fcd",
   "metadata": {
    "execution": {
     "iopub.execute_input": "2024-05-12T11:47:55.427195Z",
     "iopub.status.busy": "2024-05-12T11:47:55.426771Z",
     "iopub.status.idle": "2024-05-12T11:47:55.445377Z",
     "shell.execute_reply": "2024-05-12T11:47:55.444447Z"
    },
    "papermill": {
     "duration": 0.034395,
     "end_time": "2024-05-12T11:47:55.448001",
     "exception": false,
     "start_time": "2024-05-12T11:47:55.413606",
     "status": "completed"
    },
    "tags": [],
    "ExecuteTime": {
     "end_time": "2025-05-14T14:52:27.754883Z",
     "start_time": "2025-05-14T14:52:27.735513Z"
    }
   },
   "source": "netflix.info()",
   "outputs": [
    {
     "name": "stdout",
     "output_type": "stream",
     "text": [
      "<class 'pandas.core.frame.DataFrame'>\n",
      "RangeIndex: 8790 entries, 0 to 8789\n",
      "Data columns (total 10 columns):\n",
      " #   Column        Non-Null Count  Dtype \n",
      "---  ------        --------------  ----- \n",
      " 0   show_id       8790 non-null   object\n",
      " 1   type          8790 non-null   object\n",
      " 2   title         8790 non-null   object\n",
      " 3   director      8790 non-null   object\n",
      " 4   country       8790 non-null   object\n",
      " 5   date_added    8790 non-null   object\n",
      " 6   release_year  8790 non-null   int64 \n",
      " 7   rating        8790 non-null   object\n",
      " 8   duration      8790 non-null   object\n",
      " 9   listed_in     8790 non-null   object\n",
      "dtypes: int64(1), object(9)\n",
      "memory usage: 686.8+ KB\n"
     ]
    }
   ],
   "execution_count": 6
  },
  {
   "cell_type": "code",
   "id": "ad63fcc0",
   "metadata": {
    "execution": {
     "iopub.execute_input": "2024-05-12T11:47:55.473503Z",
     "iopub.status.busy": "2024-05-12T11:47:55.472931Z",
     "iopub.status.idle": "2024-05-12T11:47:55.506800Z",
     "shell.execute_reply": "2024-05-12T11:47:55.505103Z"
    },
    "papermill": {
     "duration": 0.049665,
     "end_time": "2024-05-12T11:47:55.509529",
     "exception": false,
     "start_time": "2024-05-12T11:47:55.459864",
     "status": "completed"
    },
    "tags": [],
    "ExecuteTime": {
     "end_time": "2025-05-14T14:52:39.891823Z",
     "start_time": "2025-05-14T14:52:39.888922Z"
    }
   },
   "source": "netflix.columns",
   "outputs": [
    {
     "data": {
      "text/plain": [
       "Index(['show_id', 'type', 'title', 'director', 'country', 'date_added',\n",
       "       'release_year', 'rating', 'duration', 'listed_in'],\n",
       "      dtype='object')"
      ]
     },
     "execution_count": 7,
     "metadata": {},
     "output_type": "execute_result"
    }
   ],
   "execution_count": 7
  },
  {
   "cell_type": "code",
   "id": "76a32c15",
   "metadata": {
    "execution": {
     "iopub.execute_input": "2024-05-12T11:47:55.535042Z",
     "iopub.status.busy": "2024-05-12T11:47:55.534586Z",
     "iopub.status.idle": "2024-05-12T11:47:55.554982Z",
     "shell.execute_reply": "2024-05-12T11:47:55.553435Z"
    },
    "papermill": {
     "duration": 0.036595,
     "end_time": "2024-05-12T11:47:55.557860",
     "exception": false,
     "start_time": "2024-05-12T11:47:55.521265",
     "status": "completed"
    },
    "tags": [],
    "ExecuteTime": {
     "end_time": "2025-05-14T14:52:53.361834Z",
     "start_time": "2025-05-14T14:52:53.356706Z"
    }
   },
   "source": "netflix.shape",
   "outputs": [
    {
     "data": {
      "text/plain": [
       "(8790, 10)"
      ]
     },
     "execution_count": 8,
     "metadata": {},
     "output_type": "execute_result"
    }
   ],
   "execution_count": 8
  },
  {
   "cell_type": "code",
   "id": "4ec37130",
   "metadata": {
    "execution": {
     "iopub.execute_input": "2024-05-12T11:47:55.584890Z",
     "iopub.status.busy": "2024-05-12T11:47:55.584458Z",
     "iopub.status.idle": "2024-05-12T11:47:55.591771Z",
     "shell.execute_reply": "2024-05-12T11:47:55.590879Z"
    },
    "papermill": {
     "duration": 0.024235,
     "end_time": "2024-05-12T11:47:55.594200",
     "exception": false,
     "start_time": "2024-05-12T11:47:55.569965",
     "status": "completed"
    },
    "tags": [],
    "ExecuteTime": {
     "end_time": "2025-05-14T14:53:15.185883Z",
     "start_time": "2025-05-14T14:53:15.171456Z"
    }
   },
   "source": "netflix.duplicated()",
   "outputs": [
    {
     "data": {
      "text/plain": [
       "0       False\n",
       "1       False\n",
       "2       False\n",
       "3       False\n",
       "4       False\n",
       "        ...  \n",
       "8785    False\n",
       "8786    False\n",
       "8787    False\n",
       "8788    False\n",
       "8789    False\n",
       "Length: 8790, dtype: bool"
      ]
     },
     "execution_count": 9,
     "metadata": {},
     "output_type": "execute_result"
    }
   ],
   "execution_count": 9
  },
  {
   "cell_type": "code",
   "id": "a40fad2f",
   "metadata": {
    "execution": {
     "iopub.execute_input": "2024-05-12T11:47:55.624250Z",
     "iopub.status.busy": "2024-05-12T11:47:55.623228Z",
     "iopub.status.idle": "2024-05-12T11:47:55.645773Z",
     "shell.execute_reply": "2024-05-12T11:47:55.644483Z"
    },
    "papermill": {
     "duration": 0.042088,
     "end_time": "2024-05-12T11:47:55.648748",
     "exception": false,
     "start_time": "2024-05-12T11:47:55.606660",
     "status": "completed"
    },
    "tags": [],
    "ExecuteTime": {
     "end_time": "2025-05-14T14:53:22.236088Z",
     "start_time": "2025-05-14T14:53:22.225553Z"
    }
   },
   "source": "netflix.isna()",
   "outputs": [
    {
     "data": {
      "text/plain": [
       "      show_id   type  title  director  country  date_added  release_year  \\\n",
       "0       False  False  False     False    False       False         False   \n",
       "1       False  False  False     False    False       False         False   \n",
       "2       False  False  False     False    False       False         False   \n",
       "3       False  False  False     False    False       False         False   \n",
       "4       False  False  False     False    False       False         False   \n",
       "...       ...    ...    ...       ...      ...         ...           ...   \n",
       "8785    False  False  False     False    False       False         False   \n",
       "8786    False  False  False     False    False       False         False   \n",
       "8787    False  False  False     False    False       False         False   \n",
       "8788    False  False  False     False    False       False         False   \n",
       "8789    False  False  False     False    False       False         False   \n",
       "\n",
       "      rating  duration  listed_in  \n",
       "0      False     False      False  \n",
       "1      False     False      False  \n",
       "2      False     False      False  \n",
       "3      False     False      False  \n",
       "4      False     False      False  \n",
       "...      ...       ...        ...  \n",
       "8785   False     False      False  \n",
       "8786   False     False      False  \n",
       "8787   False     False      False  \n",
       "8788   False     False      False  \n",
       "8789   False     False      False  \n",
       "\n",
       "[8790 rows x 10 columns]"
      ],
      "text/html": [
       "<div>\n",
       "<style scoped>\n",
       "    .dataframe tbody tr th:only-of-type {\n",
       "        vertical-align: middle;\n",
       "    }\n",
       "\n",
       "    .dataframe tbody tr th {\n",
       "        vertical-align: top;\n",
       "    }\n",
       "\n",
       "    .dataframe thead th {\n",
       "        text-align: right;\n",
       "    }\n",
       "</style>\n",
       "<table border=\"1\" class=\"dataframe\">\n",
       "  <thead>\n",
       "    <tr style=\"text-align: right;\">\n",
       "      <th></th>\n",
       "      <th>show_id</th>\n",
       "      <th>type</th>\n",
       "      <th>title</th>\n",
       "      <th>director</th>\n",
       "      <th>country</th>\n",
       "      <th>date_added</th>\n",
       "      <th>release_year</th>\n",
       "      <th>rating</th>\n",
       "      <th>duration</th>\n",
       "      <th>listed_in</th>\n",
       "    </tr>\n",
       "  </thead>\n",
       "  <tbody>\n",
       "    <tr>\n",
       "      <th>0</th>\n",
       "      <td>False</td>\n",
       "      <td>False</td>\n",
       "      <td>False</td>\n",
       "      <td>False</td>\n",
       "      <td>False</td>\n",
       "      <td>False</td>\n",
       "      <td>False</td>\n",
       "      <td>False</td>\n",
       "      <td>False</td>\n",
       "      <td>False</td>\n",
       "    </tr>\n",
       "    <tr>\n",
       "      <th>1</th>\n",
       "      <td>False</td>\n",
       "      <td>False</td>\n",
       "      <td>False</td>\n",
       "      <td>False</td>\n",
       "      <td>False</td>\n",
       "      <td>False</td>\n",
       "      <td>False</td>\n",
       "      <td>False</td>\n",
       "      <td>False</td>\n",
       "      <td>False</td>\n",
       "    </tr>\n",
       "    <tr>\n",
       "      <th>2</th>\n",
       "      <td>False</td>\n",
       "      <td>False</td>\n",
       "      <td>False</td>\n",
       "      <td>False</td>\n",
       "      <td>False</td>\n",
       "      <td>False</td>\n",
       "      <td>False</td>\n",
       "      <td>False</td>\n",
       "      <td>False</td>\n",
       "      <td>False</td>\n",
       "    </tr>\n",
       "    <tr>\n",
       "      <th>3</th>\n",
       "      <td>False</td>\n",
       "      <td>False</td>\n",
       "      <td>False</td>\n",
       "      <td>False</td>\n",
       "      <td>False</td>\n",
       "      <td>False</td>\n",
       "      <td>False</td>\n",
       "      <td>False</td>\n",
       "      <td>False</td>\n",
       "      <td>False</td>\n",
       "    </tr>\n",
       "    <tr>\n",
       "      <th>4</th>\n",
       "      <td>False</td>\n",
       "      <td>False</td>\n",
       "      <td>False</td>\n",
       "      <td>False</td>\n",
       "      <td>False</td>\n",
       "      <td>False</td>\n",
       "      <td>False</td>\n",
       "      <td>False</td>\n",
       "      <td>False</td>\n",
       "      <td>False</td>\n",
       "    </tr>\n",
       "    <tr>\n",
       "      <th>...</th>\n",
       "      <td>...</td>\n",
       "      <td>...</td>\n",
       "      <td>...</td>\n",
       "      <td>...</td>\n",
       "      <td>...</td>\n",
       "      <td>...</td>\n",
       "      <td>...</td>\n",
       "      <td>...</td>\n",
       "      <td>...</td>\n",
       "      <td>...</td>\n",
       "    </tr>\n",
       "    <tr>\n",
       "      <th>8785</th>\n",
       "      <td>False</td>\n",
       "      <td>False</td>\n",
       "      <td>False</td>\n",
       "      <td>False</td>\n",
       "      <td>False</td>\n",
       "      <td>False</td>\n",
       "      <td>False</td>\n",
       "      <td>False</td>\n",
       "      <td>False</td>\n",
       "      <td>False</td>\n",
       "    </tr>\n",
       "    <tr>\n",
       "      <th>8786</th>\n",
       "      <td>False</td>\n",
       "      <td>False</td>\n",
       "      <td>False</td>\n",
       "      <td>False</td>\n",
       "      <td>False</td>\n",
       "      <td>False</td>\n",
       "      <td>False</td>\n",
       "      <td>False</td>\n",
       "      <td>False</td>\n",
       "      <td>False</td>\n",
       "    </tr>\n",
       "    <tr>\n",
       "      <th>8787</th>\n",
       "      <td>False</td>\n",
       "      <td>False</td>\n",
       "      <td>False</td>\n",
       "      <td>False</td>\n",
       "      <td>False</td>\n",
       "      <td>False</td>\n",
       "      <td>False</td>\n",
       "      <td>False</td>\n",
       "      <td>False</td>\n",
       "      <td>False</td>\n",
       "    </tr>\n",
       "    <tr>\n",
       "      <th>8788</th>\n",
       "      <td>False</td>\n",
       "      <td>False</td>\n",
       "      <td>False</td>\n",
       "      <td>False</td>\n",
       "      <td>False</td>\n",
       "      <td>False</td>\n",
       "      <td>False</td>\n",
       "      <td>False</td>\n",
       "      <td>False</td>\n",
       "      <td>False</td>\n",
       "    </tr>\n",
       "    <tr>\n",
       "      <th>8789</th>\n",
       "      <td>False</td>\n",
       "      <td>False</td>\n",
       "      <td>False</td>\n",
       "      <td>False</td>\n",
       "      <td>False</td>\n",
       "      <td>False</td>\n",
       "      <td>False</td>\n",
       "      <td>False</td>\n",
       "      <td>False</td>\n",
       "      <td>False</td>\n",
       "    </tr>\n",
       "  </tbody>\n",
       "</table>\n",
       "<p>8790 rows × 10 columns</p>\n",
       "</div>"
      ]
     },
     "execution_count": 10,
     "metadata": {},
     "output_type": "execute_result"
    }
   ],
   "execution_count": 10
  },
  {
   "cell_type": "markdown",
   "id": "eb01c011",
   "metadata": {
    "papermill": {
     "duration": 0.011622,
     "end_time": "2024-05-12T11:47:55.673036",
     "exception": false,
     "start_time": "2024-05-12T11:47:55.661414",
     "status": "completed"
    },
    "tags": []
   },
   "source": [
    "# 4. Data Cleaning"
   ]
  },
  {
   "cell_type": "code",
   "execution_count": null,
   "id": "498f46b8",
   "metadata": {
    "execution": {
     "iopub.execute_input": "2024-05-12T11:47:55.701584Z",
     "iopub.status.busy": "2024-05-12T11:47:55.700285Z",
     "iopub.status.idle": "2024-05-12T11:47:55.722705Z",
     "shell.execute_reply": "2024-05-12T11:47:55.721686Z"
    },
    "papermill": {
     "duration": 0.039661,
     "end_time": "2024-05-12T11:47:55.725480",
     "exception": false,
     "start_time": "2024-05-12T11:47:55.685819",
     "status": "completed"
    },
    "tags": []
   },
   "outputs": [],
   "source": "netflix.drop_duplicates()"
  },
  {
   "cell_type": "code",
   "execution_count": null,
   "id": "da4a1cd9",
   "metadata": {
    "execution": {
     "iopub.execute_input": "2024-05-12T11:47:55.752970Z",
     "iopub.status.busy": "2024-05-12T11:47:55.752530Z",
     "iopub.status.idle": "2024-05-12T11:47:55.763551Z",
     "shell.execute_reply": "2024-05-12T11:47:55.762651Z"
    },
    "papermill": {
     "duration": 0.027862,
     "end_time": "2024-05-12T11:47:55.766219",
     "exception": false,
     "start_time": "2024-05-12T11:47:55.738357",
     "status": "completed"
    },
    "tags": []
   },
   "outputs": [],
   "source": "netflix.dropna()"
  },
  {
   "cell_type": "code",
   "execution_count": null,
   "id": "b4683384",
   "metadata": {
    "execution": {
     "iopub.execute_input": "2024-05-12T11:47:55.793536Z",
     "iopub.status.busy": "2024-05-12T11:47:55.792891Z",
     "iopub.status.idle": "2024-05-12T11:47:55.812353Z",
     "shell.execute_reply": "2024-05-12T11:47:55.810244Z"
    },
    "papermill": {
     "duration": 0.036393,
     "end_time": "2024-05-12T11:47:55.815422",
     "exception": false,
     "start_time": "2024-05-12T11:47:55.779029",
     "status": "completed"
    },
    "tags": []
   },
   "outputs": [],
   "source": "netflix.fillna(0)"
  },
  {
   "cell_type": "markdown",
   "id": "0ce1221c",
   "metadata": {
    "papermill": {
     "duration": 0.012237,
     "end_time": "2024-05-12T11:47:55.866410",
     "exception": false,
     "start_time": "2024-05-12T11:47:55.854173",
     "status": "completed"
    },
    "tags": []
   },
   "source": [
    "# Total Content on Netflix"
   ]
  },
  {
   "cell_type": "code",
   "execution_count": null,
   "id": "864187a3",
   "metadata": {
    "execution": {
     "iopub.execute_input": "2024-05-12T11:47:55.893987Z",
     "iopub.status.busy": "2024-05-12T11:47:55.892692Z",
     "iopub.status.idle": "2024-05-12T11:47:55.904083Z",
     "shell.execute_reply": "2024-05-12T11:47:55.902729Z"
    },
    "papermill": {
     "duration": 0.027497,
     "end_time": "2024-05-12T11:47:55.906504",
     "exception": false,
     "start_time": "2024-05-12T11:47:55.879007",
     "status": "completed"
    },
    "tags": []
   },
   "outputs": [],
   "source": "netflix.shape"
  },
  {
   "cell_type": "markdown",
   "id": "0a7023b5",
   "metadata": {
    "papermill": {
     "duration": 0.012666,
     "end_time": "2024-05-12T11:47:56.418013",
     "exception": false,
     "start_time": "2024-05-12T11:47:56.405347",
     "status": "completed"
    },
    "tags": []
   },
   "source": [
    "#  Top 10 countries with Netflix Content"
   ]
  },
  {
   "cell_type": "code",
   "id": "6e1e99a1",
   "metadata": {
    "execution": {
     "iopub.execute_input": "2024-05-12T11:47:56.446650Z",
     "iopub.status.busy": "2024-05-12T11:47:56.446202Z",
     "iopub.status.idle": "2024-05-12T11:47:56.463860Z",
     "shell.execute_reply": "2024-05-12T11:47:56.462623Z"
    },
    "papermill": {
     "duration": 0.034952,
     "end_time": "2024-05-12T11:47:56.466497",
     "exception": false,
     "start_time": "2024-05-12T11:47:56.431545",
     "status": "completed"
    },
    "tags": [],
    "ExecuteTime": {
     "end_time": "2025-05-14T14:58:00.527069Z",
     "start_time": "2025-05-14T14:58:00.520754Z"
    }
   },
   "source": [
    "top_countries = netflix['country'].value_counts()\n",
    "top_countries.head(10)"
   ],
   "outputs": [
    {
     "data": {
      "text/plain": [
       "country\n",
       "United States     3240\n",
       "India             1057\n",
       "United Kingdom     638\n",
       "Pakistan           421\n",
       "Not Given          287\n",
       "Canada             271\n",
       "Japan              259\n",
       "South Korea        214\n",
       "France             213\n",
       "Spain              182\n",
       "Name: count, dtype: int64"
      ]
     },
     "execution_count": 11,
     "metadata": {},
     "output_type": "execute_result"
    }
   ],
   "execution_count": 11
  },
  {
   "cell_type": "markdown",
   "id": "4927bea3",
   "metadata": {
    "papermill": {
     "duration": 0.013929,
     "end_time": "2024-05-12T11:47:56.879102",
     "exception": false,
     "start_time": "2024-05-12T11:47:56.865173",
     "status": "completed"
    },
    "tags": []
   },
   "source": [
    "# Monthly Trend of Movie and TV Show Releases"
   ]
  },
  {
   "cell_type": "code",
   "execution_count": null,
   "id": "167475f2",
   "metadata": {
    "execution": {
     "iopub.execute_input": "2024-05-12T11:47:56.910231Z",
     "iopub.status.busy": "2024-05-12T11:47:56.909461Z",
     "iopub.status.idle": "2024-05-12T11:47:57.312675Z",
     "shell.execute_reply": "2024-05-12T11:47:57.311677Z"
    },
    "papermill": {
     "duration": 0.421824,
     "end_time": "2024-05-12T11:47:57.315283",
     "exception": false,
     "start_time": "2024-05-12T11:47:56.893459",
     "status": "completed"
    },
    "tags": []
   },
   "outputs": [],
   "source": []
  },
  {
   "cell_type": "markdown",
   "id": "fdca9b6f",
   "metadata": {
    "papermill": {
     "duration": 0.015577,
     "end_time": "2024-05-12T11:47:57.347124",
     "exception": false,
     "start_time": "2024-05-12T11:47:57.331547",
     "status": "completed"
    },
    "tags": []
   },
   "source": [
    "#  Yearly Trend of Movie and TV Show Releases"
   ]
  },
  {
   "cell_type": "code",
   "execution_count": null,
   "id": "7a5a6a89",
   "metadata": {
    "execution": {
     "iopub.execute_input": "2024-05-12T11:47:57.381058Z",
     "iopub.status.busy": "2024-05-12T11:47:57.380234Z",
     "iopub.status.idle": "2024-05-12T11:47:57.776608Z",
     "shell.execute_reply": "2024-05-12T11:47:57.775733Z"
    },
    "papermill": {
     "duration": 0.416226,
     "end_time": "2024-05-12T11:47:57.778927",
     "exception": false,
     "start_time": "2024-05-12T11:47:57.362701",
     "status": "completed"
    },
    "tags": []
   },
   "outputs": [],
   "source": []
  },
  {
   "cell_type": "markdown",
   "id": "a9c53bf2",
   "metadata": {
    "papermill": {
     "duration": 0.016494,
     "end_time": "2024-05-12T11:47:57.812428",
     "exception": false,
     "start_time": "2024-05-12T11:47:57.795934",
     "status": "completed"
    },
    "tags": []
   },
   "source": [
    "# Top 10 Movies"
   ]
  },
  {
   "cell_type": "code",
   "execution_count": null,
   "id": "80901ec3",
   "metadata": {
    "execution": {
     "iopub.execute_input": "2024-05-12T11:47:57.848387Z",
     "iopub.status.busy": "2024-05-12T11:47:57.847313Z",
     "iopub.status.idle": "2024-05-12T11:47:58.254510Z",
     "shell.execute_reply": "2024-05-12T11:47:58.253361Z"
    },
    "papermill": {
     "duration": 0.429478,
     "end_time": "2024-05-12T11:47:58.257988",
     "exception": false,
     "start_time": "2024-05-12T11:47:57.828510",
     "status": "completed"
    },
    "tags": []
   },
   "outputs": [],
   "source": []
  },
  {
   "cell_type": "markdown",
   "id": "94ee0043",
   "metadata": {
    "papermill": {
     "duration": 0.018256,
     "end_time": "2024-05-12T11:47:58.294946",
     "exception": false,
     "start_time": "2024-05-12T11:47:58.276690",
     "status": "completed"
    },
    "tags": []
   },
   "source": [
    "# Top 10 TV Show"
   ]
  },
  {
   "cell_type": "code",
   "execution_count": null,
   "id": "bfa34cff",
   "metadata": {
    "execution": {
     "iopub.execute_input": "2024-05-12T11:47:58.334422Z",
     "iopub.status.busy": "2024-05-12T11:47:58.333519Z",
     "iopub.status.idle": "2024-05-12T11:47:58.743291Z",
     "shell.execute_reply": "2024-05-12T11:47:58.740473Z"
    },
    "papermill": {
     "duration": 0.433393,
     "end_time": "2024-05-12T11:47:58.747081",
     "exception": false,
     "start_time": "2024-05-12T11:47:58.313688",
     "status": "completed"
    },
    "tags": []
   },
   "outputs": [],
   "source": [
    "\n"
   ]
  },
  {
   "cell_type": "markdown",
   "id": "afd33407",
   "metadata": {
    "papermill": {
     "duration": 0.026323,
     "end_time": "2024-05-12T11:47:58.799910",
     "exception": false,
     "start_time": "2024-05-12T11:47:58.773587",
     "status": "completed"
    },
    "tags": []
   },
   "source": [
    "#  Top_10_Directors"
   ]
  },
  {
   "cell_type": "code",
   "execution_count": null,
   "id": "5374900e",
   "metadata": {
    "execution": {
     "iopub.execute_input": "2024-05-12T11:47:58.842128Z",
     "iopub.status.busy": "2024-05-12T11:47:58.841737Z",
     "iopub.status.idle": "2024-05-12T11:47:58.857659Z",
     "shell.execute_reply": "2024-05-12T11:47:58.856365Z"
    },
    "papermill": {
     "duration": 0.040945,
     "end_time": "2024-05-12T11:47:58.861845",
     "exception": false,
     "start_time": "2024-05-12T11:47:58.820900",
     "status": "completed"
    },
    "tags": []
   },
   "outputs": [],
   "source": []
  }
 ],
 "metadata": {
  "kaggle": {
   "accelerator": "none",
   "dataSources": [
    {
     "datasetId": 2437124,
     "sourceId": 4123716,
     "sourceType": "datasetVersion"
    }
   ],
   "dockerImageVersionId": 30698,
   "isGpuEnabled": false,
   "isInternetEnabled": true,
   "language": "python",
   "sourceType": "notebook"
  },
  "kernelspec": {
   "display_name": "Python 3 (ipykernel)",
   "language": "python",
   "name": "python3"
  },
  "language_info": {
   "codemirror_mode": {
    "name": "ipython",
    "version": 3
   },
   "file_extension": ".py",
   "mimetype": "text/x-python",
   "name": "python",
   "nbconvert_exporter": "python",
   "pygments_lexer": "ipython3",
   "version": "3.9.13"
  },
  "papermill": {
   "default_parameters": {},
   "duration": 10.67954,
   "end_time": "2024-05-12T11:48:00.055771",
   "environment_variables": {},
   "exception": null,
   "input_path": "__notebook__.ipynb",
   "output_path": "__notebook__.ipynb",
   "parameters": {},
   "start_time": "2024-05-12T11:47:49.376231",
   "version": "2.5.0"
  }
 },
 "nbformat": 4,
 "nbformat_minor": 5
}

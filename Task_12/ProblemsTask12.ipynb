{
 "cells": [
  {
   "cell_type": "code",
   "id": "initial_id",
   "metadata": {
    "collapsed": true,
    "ExecuteTime": {
     "end_time": "2025-04-24T09:54:56.068180Z",
     "start_time": "2025-04-24T09:54:55.109827Z"
    }
   },
   "source": [
    "import numpy as np\n",
    "\n",
    "# problem 1\n",
    "task1 = np.eye(3) * 9\n",
    "print(task1)"
   ],
   "outputs": [
    {
     "name": "stdout",
     "output_type": "stream",
     "text": [
      "[[9. 0. 0.]\n",
      " [0. 9. 0.]\n",
      " [0. 0. 9.]]\n"
     ]
    }
   ],
   "execution_count": 1
  },
  {
   "metadata": {
    "ExecuteTime": {
     "end_time": "2025-04-24T09:56:32.761132Z",
     "start_time": "2025-04-24T09:56:32.756998Z"
    }
   },
   "cell_type": "code",
   "source": [
    "# problem 2\n",
    "task2 = np.arange(2, 33, 2).reshape((4, 4))\n",
    "\n",
    "mean = task2.mean()\n",
    "deviation = task2.std()\n",
    "\n",
    "lower = mean - deviation * .5\n",
    "upper = mean + deviation * .5\n",
    "\n",
    "ans = task2[(task2 >= lower) & (task2 <= upper)]\n",
    "print(ans)"
   ],
   "id": "f67c00fbf10c0ef2",
   "outputs": [
    {
     "name": "stdout",
     "output_type": "stream",
     "text": [
      "[14 16 18 20]\n"
     ]
    }
   ],
   "execution_count": 5
  },
  {
   "metadata": {
    "ExecuteTime": {
     "end_time": "2025-04-24T09:56:34.613275Z",
     "start_time": "2025-04-24T09:56:34.608846Z"
    }
   },
   "cell_type": "code",
   "source": [
    "\n",
    "#problem 3\n",
    "# task3 = np.eye(9) * 0\n",
    "task3 = np.zeros((9, 9), dtype=int)\n",
    "print(task3)\n",
    "\n",
    "print()\n",
    "print()"
   ],
   "id": "9591ab16a7d5da0a",
   "outputs": [
    {
     "name": "stdout",
     "output_type": "stream",
     "text": [
      "[[0 0 0 0 0 0 0 0 0]\n",
      " [0 0 0 0 0 0 0 0 0]\n",
      " [0 0 0 0 0 0 0 0 0]\n",
      " [0 0 0 0 0 0 0 0 0]\n",
      " [0 0 0 0 0 0 0 0 0]\n",
      " [0 0 0 0 0 0 0 0 0]\n",
      " [0 0 0 0 0 0 0 0 0]\n",
      " [0 0 0 0 0 0 0 0 0]\n",
      " [0 0 0 0 0 0 0 0 0]]\n",
      "\n",
      "\n"
     ]
    }
   ],
   "execution_count": 6
  },
  {
   "metadata": {
    "ExecuteTime": {
     "end_time": "2025-04-24T09:56:40.978181Z",
     "start_time": "2025-04-24T09:56:37.258023Z"
    }
   },
   "cell_type": "code",
   "source": [
    "# problem 4\n",
    "n = int(input(\"Enter the n: \"))\n",
    "task4 = np.ones((n, 1)) * np.arange(1, n + 1)\n",
    "\n",
    "print(task4)\n",
    "\n",
    "print()\n",
    "print()"
   ],
   "id": "c6ec84fef30f6816",
   "outputs": [
    {
     "name": "stdout",
     "output_type": "stream",
     "text": [
      "[[1. 2. 3. 4. 5.]\n",
      " [1. 2. 3. 4. 5.]\n",
      " [1. 2. 3. 4. 5.]\n",
      " [1. 2. 3. 4. 5.]\n",
      " [1. 2. 3. 4. 5.]]\n",
      "\n",
      "\n"
     ]
    }
   ],
   "execution_count": 7
  },
  {
   "metadata": {},
   "cell_type": "code",
   "outputs": [],
   "execution_count": null,
   "source": [
    "# problem 5\n",
    "numberOfCards = int(input())\n",
    "cards = list(map(int, input().split()))\n",
    "\n",
    "arr = np.array(cards)\n",
    "\n",
    "sereja, dima = 0, 0\n",
    "l, r = 0, numberOfCards - 1\n",
    "currentTurn = True # True for sereja, False for dima\n",
    "\n",
    "while l <= r:\n",
    "    if arr[l] >= arr[r]:\n",
    "        sereja += arr[l] * currentTurn\n",
    "        dima += arr[l] * (not currentTurn)\n",
    "        l += 1\n",
    "    else:\n",
    "        sereja += arr[r] * currentTurn\n",
    "        dima += arr[r] * (not currentTurn)\n",
    "        r -= 1\n",
    "\n",
    "    currentTurn ^= True\n",
    "\n",
    "\n",
    "print(sereja, dima)"
   ],
   "id": "b84e29695a361e27"
  },
  {
   "metadata": {
    "ExecuteTime": {
     "end_time": "2025-04-24T09:56:24.091159Z",
     "start_time": "2025-04-24T09:56:15.004371Z"
    }
   },
   "cell_type": "code",
   "source": [
    "# problem 6\n",
    "rows, cols = map(int, input().split())\n",
    "matrix = [input().split() for _ in range(rows)]\n",
    "\n",
    "arr = np.array(matrix)\n",
    "\n",
    "white = np.count_nonzero(arr == 'W')\n",
    "black = np.count_nonzero(arr == 'B')\n",
    "grey = np.count_nonzero(arr == 'G')\n",
    "\n",
    "print(\"#Black&White\" if white + black + grey == rows * cols else \"#Color\")"
   ],
   "id": "70d968f318382084",
   "outputs": [
    {
     "name": "stdout",
     "output_type": "stream",
     "text": [
      "#Color\n"
     ]
    }
   ],
   "execution_count": 4
  }
 ],
 "metadata": {
  "kernelspec": {
   "display_name": "Python 3",
   "language": "python",
   "name": "python3"
  },
  "language_info": {
   "codemirror_mode": {
    "name": "ipython",
    "version": 2
   },
   "file_extension": ".py",
   "mimetype": "text/x-python",
   "name": "python",
   "nbconvert_exporter": "python",
   "pygments_lexer": "ipython2",
   "version": "2.7.6"
  }
 },
 "nbformat": 4,
 "nbformat_minor": 5
}
